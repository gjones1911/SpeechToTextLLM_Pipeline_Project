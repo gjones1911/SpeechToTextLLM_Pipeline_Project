{
 "cells": [
  {
   "cell_type": "code",
   "execution_count": 1,
   "id": "2638b921-4258-432e-b587-322d1b76c5ae",
   "metadata": {},
   "outputs": [
    {
     "name": "stderr",
     "output_type": "stream",
     "text": [
      "/home/gerald/venvs/sttttsvenv/lib/python3.10/site-packages/tqdm/auto.py:21: TqdmWarning: IProgress not found. Please update jupyter and ipywidgets. See https://ipywidgets.readthedocs.io/en/stable/user_install.html\n",
      "  from .autonotebook import tqdm as notebook_tqdm\n"
     ]
    },
    {
     "name": "stdout",
     "output_type": "stream",
     "text": [
      "/home/gerald/venvs/sttttsvenv/bin/python\n",
      "🎭 Initializing MultiEngineTTS on linux\n",
      "⚠️ Festival initialization failed: [Errno 20] Not a directory: 'festival'\n",
      "⚠️ eSpeak initialization failed: [Errno 20] Not a directory: 'espeak'\n",
      "⚠️ gTTS not installed (pip install gtts pygame)\n",
      "⚠️ Azure Speech SDK not installed\n",
      "using model: tts_models/en/jenny/jenny\n",
      "GPU?: True\n",
      " > Downloading model to /home/gerald/.local/share/tts/tts_models--en--jenny--jenny\n",
      " > Model's license - custom - see https://github.com/dioco-group/jenny-tts-dataset#important\n",
      " > Check https://opensource.org/licenses for more info.\n",
      " > Using model: vits\n",
      " > Setting up Audio Processor...\n",
      " | > sample_rate:48000\n",
      " | > resample:False\n",
      " | > num_mels:100\n",
      " | > log_func:np.log10\n",
      " | > min_level_db:0\n",
      " | > frame_shift_ms:None\n",
      " | > frame_length_ms:None\n",
      " | > ref_level_db:None\n",
      " | > fft_size:2048\n",
      " | > power:None\n",
      " | > preemphasis:0.0\n",
      " | > griffin_lim_iters:None\n",
      " | > signal_norm:None\n",
      " | > symmetric_norm:None\n",
      " | > mel_fmin:0\n",
      " | > mel_fmax:None\n",
      " | > pitch_fmin:None\n",
      " | > pitch_fmax:None\n",
      " | > spec_gain:20.0\n",
      " | > stft_pad_mode:reflect\n",
      " | > max_norm:1.0\n",
      " | > clip_norm:True\n",
      " | > do_trim_silence:False\n",
      " | > trim_db:60\n",
      " | > do_sound_norm:False\n",
      " | > do_amp_to_db_linear:True\n",
      " | > do_amp_to_db_mel:True\n",
      " | > do_rms_norm:False\n",
      " | > db_level:None\n",
      " | > stats_path:None\n",
      " | > base:10\n",
      " | > hop_length:512\n",
      " | > win_length:2048\n",
      "✅ Mozilla TTS engine initialized\n",
      "🎯 Preferred engine: mozilla\n",
      "📋 Available engines: ['mozilla']\n"
     ]
    }
   ],
   "source": [
    "from multi_engine_stt import * \n",
    "from multi_engine_tts import *\n",
    "import gradio as gr\n",
    "import signal\n",
    "import time\n",
    "import sys\n",
    "from llm\n",
    "print(sys.executable)\n",
    "\n",
    "vocalizer = MultiEngineTTS(\n",
    "    preferred_engine=\"mozzilla\",\n",
    ")"
   ]
  },
  {
   "cell_type": "code",
   "execution_count": 2,
   "id": "ee66b4dd-cec7-492b-943a-56ecbce69b5f",
   "metadata": {},
   "outputs": [
    {
     "name": "stdout",
     "output_type": "stream",
     "text": [
      "0.22.0\n"
     ]
    }
   ],
   "source": [
    "import TTS as tts_main\n",
    "print(tts_main.__version__)"
   ]
  },
  {
   "cell_type": "code",
   "execution_count": null,
   "id": "2843e6a8-cf65-4097-b63a-beed460ec1d1",
   "metadata": {},
   "outputs": [],
   "source": []
  },
  {
   "cell_type": "code",
   "execution_count": 3,
   "id": "d1cfaf01-e871-4436-9694-c9cc3dd2556c",
   "metadata": {},
   "outputs": [],
   "source": [
    "text_chunk_size = 1000\n",
    "output_file = \"user_input_text.mp3\"\n",
    "def process_text_to_speech(text_input):\n",
    "    # if len(text_input) > text_chunk_size:\n",
    "    #     while len(text_input) > text_chunk_size\n",
    "    #     text_chunks = text_input\n",
    "    vocalizer.engines['mozilla']['engine'].tts_to_file(text=text_input, file_path=output_file)\n",
    "    return output_file\n",
    "def create_simple_synthesizer():\n",
    "    input_box = None\n",
    "    audio_out = None\n",
    "    with gr.Blocks(title=\"🗣️ TTS Demo\") as synth:\n",
    "        with gr.Row():\n",
    "            gr.Markdown(value=\"🗣️ TTS Demo\")\n",
    "        with gr.Row():\n",
    "            input_box = gr.Textbox(\n",
    "                value=\"\",\n",
    "                lines=5,\n",
    "                placeholder=\"input your text that needs to be spoken\", \n",
    "                submit_btn=True,\n",
    "                stop_btn=True,\n",
    "            )\n",
    "            \n",
    "        with gr.Row():\n",
    "            audio_out = gr.Audio(\n",
    "                # sources = ['upload', 'microphone'],\n",
    "                # type = 'filepath',\n",
    "                # streaming = True,\n",
    "                autoplay=True,\n",
    "            )\n",
    "        input_box.submit(\n",
    "                    fn=process_text_to_speech,\n",
    "                    inputs=input_box, \n",
    "                    outputs=audio_out,\n",
    "                )\n",
    "    return synth\n",
    "\n",
    "\n",
    "import socket\n",
    "\n",
    "def is_port_open(port):\n",
    "    with socket.socket(socket.AF_INET, socket.SOCK_STREAM) as s:\n",
    "        return s.connect_ex((\"localhost\", port)) == 0\n",
    "\n",
    "if is_port_open(7888):\n",
    "    print(\"🧼 Cleaning up port 7888...\")\n",
    "    os.system(\"fuser -k 7888/tcp\")  # Linux only"
   ]
  },
  {
   "cell_type": "code",
   "execution_count": 4,
   "id": "d9c7cef1-afa9-402d-b8ae-06f3b87c3e5a",
   "metadata": {},
   "outputs": [
    {
     "name": "stdout",
     "output_type": "stream",
     "text": [
      "* Running on local URL:  http://127.0.0.1:7888\n",
      "* Running on public URL: https://0523b1f7f50f609160.gradio.live\n",
      "\n",
      "This share link expires in 1 week. For free permanent hosting and GPU upgrades, run `gradio deploy` from the terminal in the working directory to deploy to Hugging Face Spaces (https://huggingface.co/spaces)\n"
     ]
    },
    {
     "data": {
      "text/html": [
       "<div><iframe src=\"https://0523b1f7f50f609160.gradio.live\" width=\"100%\" height=\"500\" allow=\"autoplay; camera; microphone; clipboard-read; clipboard-write;\" frameborder=\"0\" allowfullscreen></iframe></div>"
      ],
      "text/plain": [
       "<IPython.core.display.HTML object>"
      ]
     },
     "metadata": {},
     "output_type": "display_data"
    },
    {
     "data": {
      "text/plain": []
     },
     "execution_count": 4,
     "metadata": {},
     "output_type": "execute_result"
    }
   ],
   "source": [
    "synth_demo = create_simple_synthesizer()\n",
    "\n",
    "def stop_app(signum, frame):\n",
    "    print(\"\\n🛑 Caught shutdown signal, closing Gradio app...\")\n",
    "    synth_demo.close()  # Stop the server if supported\n",
    "    sys.exit(0)\n",
    "\n",
    "signal.signal(signal.SIGINT, stop_app)\n",
    "signal.signal(signal.SIGTERM, stop_app)\n",
    "\n",
    "\n",
    "synth_demo.launch(share=True, debug=False, server_port=7888)"
   ]
  },
  {
   "cell_type": "markdown",
   "id": "2e43e982-754e-4f4b-8cfc-6e2d1ef5033c",
   "metadata": {},
   "source": [
    "# Show Stopper! 🛑"
   ]
  },
  {
   "cell_type": "code",
   "execution_count": 10,
   "id": "139af771-9215-468a-8e4f-3ab55d93056d",
   "metadata": {},
   "outputs": [
    {
     "name": "stdout",
     "output_type": "stream",
     "text": [
      "Closing server running on port: 7888\n"
     ]
    }
   ],
   "source": [
    "synth_demo.close()"
   ]
  },
  {
   "cell_type": "code",
   "execution_count": 6,
   "id": "84deba24-74b2-491b-b9ba-49b058f833c6",
   "metadata": {},
   "outputs": [
    {
     "name": "stdout",
     "output_type": "stream",
     "text": [
      "Requirement already satisfied: transformers in /home/gerald/venvs/sttttsvenv/lib/python3.10/site-packages (4.53.1)\n",
      "Requirement already satisfied: requests in /home/gerald/venvs/sttttsvenv/lib/python3.10/site-packages (from transformers) (2.32.4)\n",
      "Requirement already satisfied: huggingface-hub<1.0,>=0.30.0 in /home/gerald/venvs/sttttsvenv/lib/python3.10/site-packages (from transformers) (0.33.2)\n",
      "Requirement already satisfied: safetensors>=0.4.3 in /home/gerald/venvs/sttttsvenv/lib/python3.10/site-packages (from transformers) (0.5.3)\n",
      "Requirement already satisfied: numpy>=1.17 in /home/gerald/venvs/sttttsvenv/lib/python3.10/site-packages (from transformers) (1.22.0)\n",
      "Requirement already satisfied: pyyaml>=5.1 in /home/gerald/venvs/sttttsvenv/lib/python3.10/site-packages (from transformers) (6.0.2)\n",
      "Requirement already satisfied: packaging>=20.0 in /home/gerald/venvs/sttttsvenv/lib/python3.10/site-packages (from transformers) (24.2)\n",
      "Requirement already satisfied: filelock in /home/gerald/venvs/sttttsvenv/lib/python3.10/site-packages (from transformers) (3.18.0)\n",
      "Requirement already satisfied: tokenizers<0.22,>=0.21 in /home/gerald/venvs/sttttsvenv/lib/python3.10/site-packages (from transformers) (0.21.2)\n",
      "Requirement already satisfied: regex!=2019.12.17 in /home/gerald/venvs/sttttsvenv/lib/python3.10/site-packages (from transformers) (2024.11.6)\n",
      "Requirement already satisfied: tqdm>=4.27 in /home/gerald/venvs/sttttsvenv/lib/python3.10/site-packages (from transformers) (4.67.1)\n",
      "Requirement already satisfied: fsspec>=2023.5.0 in /home/gerald/venvs/sttttsvenv/lib/python3.10/site-packages (from huggingface-hub<1.0,>=0.30.0->transformers) (2025.5.1)\n",
      "Requirement already satisfied: typing-extensions>=3.7.4.3 in /home/gerald/venvs/sttttsvenv/lib/python3.10/site-packages (from huggingface-hub<1.0,>=0.30.0->transformers) (4.14.1)\n",
      "Requirement already satisfied: hf-xet<2.0.0,>=1.1.2 in /home/gerald/venvs/sttttsvenv/lib/python3.10/site-packages (from huggingface-hub<1.0,>=0.30.0->transformers) (1.1.5)\n",
      "Requirement already satisfied: idna<4,>=2.5 in /home/gerald/venvs/sttttsvenv/lib/python3.10/site-packages (from requests->transformers) (3.10)\n",
      "Requirement already satisfied: charset_normalizer<4,>=2 in /home/gerald/venvs/sttttsvenv/lib/python3.10/site-packages (from requests->transformers) (3.4.2)\n",
      "Requirement already satisfied: certifi>=2017.4.17 in /home/gerald/venvs/sttttsvenv/lib/python3.10/site-packages (from requests->transformers) (2025.6.15)\n",
      "Requirement already satisfied: urllib3<3,>=1.21.1 in /home/gerald/venvs/sttttsvenv/lib/python3.10/site-packages (from requests->transformers) (2.5.0)\n"
     ]
    }
   ],
   "source": [
    "# !~/venvs/sttttsvenv/bin/python -m pip install gradio\n",
    "\n",
    "# !~/venvs/sttttsvenv/bin/python -m pip install elevenlabs\n",
    "\n",
    "!~/venvs/sttttsvenv/bin/python -m pip install transformers"
   ]
  },
  {
   "cell_type": "code",
   "execution_count": null,
   "id": "f7325804-3c3e-4d01-96ba-3e492f20026c",
   "metadata": {},
   "outputs": [],
   "source": []
  }
 ],
 "metadata": {
  "kernelspec": {
   "display_name": "SpeechToText_TextToSpeech ENV",
   "language": "python",
   "name": "sttttsvenv"
  },
  "language_info": {
   "codemirror_mode": {
    "name": "ipython",
    "version": 3
   },
   "file_extension": ".py",
   "mimetype": "text/x-python",
   "name": "python",
   "nbconvert_exporter": "python",
   "pygments_lexer": "ipython3",
   "version": "3.10.12"
  }
 },
 "nbformat": 4,
 "nbformat_minor": 5
}
